{
 "cells": [
  {
   "cell_type": "markdown",
   "id": "65081777",
   "metadata": {},
   "source": [
    "## This notebook is used to select top 1000 packages by number of dependents"
   ]
  },
  {
   "cell_type": "code",
   "execution_count": 2,
   "id": "c839e907",
   "metadata": {},
   "outputs": [],
   "source": [
    "from bs4 import BeautifulSoup\n",
    "import math\n",
    "import os\n",
    "import requests\n",
    "import time"
   ]
  },
  {
   "cell_type": "code",
   "execution_count": 3,
   "id": "1a5d3b8a",
   "metadata": {},
   "outputs": [],
   "source": [
    "# Link to the webpage displaying top PyPI packages sorted by dependents (the link was accessed on 08/01/2022)\n",
    "top_dependent_packages_url = \"https://libraries.io/search?order=desc&page={}&platforms=PyPI&sort=dependents_count\""
   ]
  },
  {
   "cell_type": "code",
   "execution_count": 4,
   "id": "93340706",
   "metadata": {},
   "outputs": [],
   "source": [
    "# Download, parse the webpage containing packages sorted by dependents and save the list of top packages\n",
    "top_packages_by_dependents = []\n",
    "num_max_packages = 1000\n",
    "packages_per_page = 30 \n",
    "i = 1\n",
    "while len(top_packages_by_dependents) <= num_max_packages:\n",
    "    time.sleep(5)\n",
    "    page = requests.get(top_dependent_packages_url.format(i))\n",
    "    soup = BeautifulSoup(page.content, \"html.parser\")\n",
    "    result_packages = soup.select(\"a[href*=pypi]\")\n",
    "    if len(result_packages) > 0:\n",
    "        for j in result_packages:\n",
    "            top_packages_by_dependents.append(j.string.lower())\n",
    "    i += 1"
   ]
  },
  {
   "cell_type": "code",
   "execution_count": 6,
   "id": "9c204565",
   "metadata": {},
   "outputs": [],
   "source": [
    "# Saving the list of top pypi packages by dependents to storage\n",
    "result_file = os.path.abspath(\"../dataset/metadata/top-1000-dependents-packages.txt\")\n",
    "with open(result_file, 'w') as f:\n",
    "    # There might have collected more than 1000 packages, so just take the first 1000\n",
    "    for item in top_packages_by_dependents[:1000]:\n",
    "        f.write(\"%s\\n\" % item)"
   ]
  },
  {
   "cell_type": "code",
   "execution_count": null,
   "id": "c707c6c2",
   "metadata": {},
   "outputs": [],
   "source": []
  }
 ],
 "metadata": {
  "kernelspec": {
   "display_name": "Python 3 (ipykernel)",
   "language": "python",
   "name": "python3"
  },
  "language_info": {
   "codemirror_mode": {
    "name": "ipython",
    "version": 3
   },
   "file_extension": ".py",
   "mimetype": "text/x-python",
   "name": "python",
   "nbconvert_exporter": "python",
   "pygments_lexer": "ipython3",
   "version": "3.8.10"
  }
 },
 "nbformat": 4,
 "nbformat_minor": 5
}
