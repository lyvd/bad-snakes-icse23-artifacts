{
 "cells": [
  {
   "cell_type": "code",
   "execution_count": null,
   "id": "b7fd36b9",
   "metadata": {},
   "outputs": [],
   "source": [
    "import json\n",
    "import os\n",
    "import pandas as pd\n",
    "import pickle\n",
    "import subprocess\n",
    "import time\n",
    "from tqdm import tqdm\n",
    "from functools import lru_cache\n",
    "import tempfile\n",
    "import shutil\n",
    "from pathlib import Path"
   ]
  },
  {
   "cell_type": "code",
   "execution_count": null,
   "id": "e6c33e2c",
   "metadata": {},
   "outputs": [],
   "source": [
    "def scanning_packages(package_releases_path, results_dir):\n",
    "    package_dirs = [f.path for f in os.scandir(package_releases_path) if f.is_dir()]\n",
    "    for package_dir in tqdm(package_dirs):\n",
    "        package_name = f\"{package_dir.split('/')[6]}\" \n",
    "        if package_name not in popular_packages_running_times:\n",
    "            print(package_name)\n",
    "            with tempfile.TemporaryDirectory() as temp_dir:\n",
    "                for dirpath,_,filenames in os.walk(package_dir):\n",
    "                    for f in filenames:\n",
    "                        file_path = os.path.abspath(os.path.join(dirpath, f))\n",
    "                        if Path(file_path).suffix == '.py':\n",
    "                            shutil.copy2(file_path, temp_dir)\n",
    "                start_time = time.time()\n",
    "                subprocess.run([\"bandit\", \"-r\", temp_dir,  \"-f\", \"json\", \"-o\", f\"{os.path.join(results_dir, package_name)}.json\"])\n",
    "                popular_packages_running_times[package_name] = time.time() - start_time"
   ]
  },
  {
   "cell_type": "code",
   "execution_count": null,
   "id": "2b23d1ae",
   "metadata": {},
   "outputs": [],
   "source": [
    "def parse_analysis_results(results_dir):\n",
    "    results = []\n",
    "    for root, dirs, files in os.walk(results_dir):\n",
    "        for file in files:\n",
    "            file_path = os.path.join(root, file)\n",
    "            package_name = file_path.split(\"/\")[-1].replace(\".json\", \"\")\n",
    "            with open(file_path, \"rb\") as f:\n",
    "                data_bytes = f.read()\n",
    "                data_str = data_bytes.decode(\"utf-8\", errors='ignore')\n",
    "                data = json.loads(data_str)\n",
    "                for result in data[\"results\"]:\n",
    "                    results.append([package_name, result[\"filename\"], result['issue_text']])\n",
    "    return results"
   ]
  },
  {
   "cell_type": "code",
   "execution_count": null,
   "id": "5bcb6dcc",
   "metadata": {},
   "outputs": [],
   "source": [
    "def get_tp_fp(num_alerts_list, threshold):\n",
    "    count = 0\n",
    "    for i in num_alerts_list:\n",
    "        if i > threshold:\n",
    "            count = count + 1\n",
    "    tp = count\n",
    "    fp = len(num_alerts_list) - tp\n",
    "    return (tp, fp)"
   ]
  },
  {
   "cell_type": "markdown",
   "id": "e5b02968",
   "metadata": {},
   "source": [
    "## Malicious packages"
   ]
  },
  {
   "cell_type": "code",
   "execution_count": null,
   "id": "39cb752b",
   "metadata": {},
   "outputs": [],
   "source": [
    "malicious_packages_path = os.path.abspath(\"../dataset/malicious-packages/\")\n",
    "malicious_results_dir = os.path.abspath(\"../results/bandit4mal/malicious/\")"
   ]
  },
  {
   "cell_type": "code",
   "execution_count": null,
   "id": "156ecf48",
   "metadata": {},
   "outputs": [],
   "source": [
    "malicious_packages_running_time = scanning_packages(malicious_packages_path, malicious_results_dir)"
   ]
  },
  {
   "cell_type": "code",
   "execution_count": null,
   "id": "02269381",
   "metadata": {},
   "outputs": [],
   "source": [
    "malicious_packages_running_time_df = pd.DataFrame(list(malicious_packages_running_time.items()), columns=['package', 'running_time'])\n",
    "malicious_packages_running_time_df[\"running_time\"].describe()"
   ]
  },
  {
   "cell_type": "code",
   "execution_count": null,
   "id": "f8e0b2a5",
   "metadata": {},
   "outputs": [],
   "source": [
    "malicious_packages_running_time_df.to_csv(\"../results/running_times/bandit4mal/malicious-packages.csv\")"
   ]
  },
  {
   "cell_type": "code",
   "execution_count": null,
   "id": "f61f51e0",
   "metadata": {},
   "outputs": [],
   "source": [
    "scan_releases(malicious_packages_path, malicious_results_dir)"
   ]
  },
  {
   "cell_type": "code",
   "execution_count": null,
   "id": "a4b87db5",
   "metadata": {},
   "outputs": [],
   "source": [
    "malicious_results_path = os.path.abspath(\"../results/bandit4mal/malicious/\")\n",
    "malicious_results = analyze_results(malicious_results_path)"
   ]
  },
  {
   "cell_type": "markdown",
   "id": "7851fb6d",
   "metadata": {},
   "source": [
    "### Triggered rules in all Python files in malicious packages"
   ]
  },
  {
   "cell_type": "code",
   "execution_count": null,
   "id": "5908ed67",
   "metadata": {},
   "outputs": [],
   "source": [
    "malicious_results_df = pd.DataFrame(malicious_results, columns=[\"package\", \"target\", \"rule\"])"
   ]
  },
  {
   "cell_type": "code",
   "execution_count": null,
   "id": "12a59580",
   "metadata": {},
   "outputs": [],
   "source": [
    "# Number of rules per package\n",
    "malicious_packages_rules_groupby = malicious_results_df.groupby('package')['rule']\n",
    "print(f\"Total number of rules: {malicious_packages_rules_groupby.count().sum()}\")\n",
    "malicious_packages_rules_groupby.count().describe()"
   ]
  },
  {
   "cell_type": "markdown",
   "id": "2572ff19",
   "metadata": {},
   "source": [
    "### Triggered rules in all setup.py files in malicious packages"
   ]
  },
  {
   "cell_type": "code",
   "execution_count": null,
   "id": "1e1c9298",
   "metadata": {},
   "outputs": [],
   "source": [
    "malicious_packages_rules_setup_df = malicious_results_df[malicious_results_df['target'].str.contains('setup.py')]"
   ]
  },
  {
   "cell_type": "code",
   "execution_count": null,
   "id": "213c2254",
   "metadata": {},
   "outputs": [],
   "source": [
    "# Number of rules per package\n",
    "malicious_packages_rules_setup_groupby = malicious_packages_rules_setup_df.groupby('package')['rule']\n",
    "print(f\"Total number of rules: {malicious_packages_rules_setup_groupby.count().sum()}\")\n",
    "malicious_packages_rules_setup_groupby.count().describe()"
   ]
  },
  {
   "cell_type": "code",
   "execution_count": null,
   "id": "ee5c5aed",
   "metadata": {},
   "outputs": [],
   "source": [
    "# Saving the existing result\n",
    "with open(os.path.abspath(\"../results/malicious_packages_scanning_results_bandit4mal.pkl\"), 'wb') as fp:\n",
    "    pickle.dump(malicious_results, fp, protocol=pickle.HIGHEST_PROTOCOL)"
   ]
  },
  {
   "cell_type": "markdown",
   "id": "78dcb138",
   "metadata": {},
   "source": [
    "## Popular packages"
   ]
  },
  {
   "cell_type": "code",
   "execution_count": null,
   "id": "94316041",
   "metadata": {},
   "outputs": [],
   "source": [
    "# Paths to popular packages and the results dir\n",
    "popular_packages_path = os.path.abspath(\"../dataset/popular-packages/\")\n",
    "popular_results_dir = os.path.abspath(\"../results/bandit4mal/popular/\")"
   ]
  },
  {
   "cell_type": "code",
   "execution_count": null,
   "id": "4f5db8d7",
   "metadata": {},
   "outputs": [],
   "source": [
    "# Scanning popular packages\n",
    "scan_releases(popular_packages_path, popular_results_dir)"
   ]
  },
  {
   "cell_type": "code",
   "execution_count": null,
   "id": "7312cdac",
   "metadata": {},
   "outputs": [],
   "source": [
    "popular_packages_running_time = calculate_running_times_popular(popular_packages_path, popular_results_dir)"
   ]
  },
  {
   "cell_type": "code",
   "execution_count": null,
   "id": "1123c74e",
   "metadata": {},
   "outputs": [],
   "source": [
    "popular_packages_running_times_df = pd.DataFrame(list(popular_packages_running_times.items()), columns=['package', 'running_time'])"
   ]
  },
  {
   "cell_type": "code",
   "execution_count": null,
   "id": "ad0a9daf",
   "metadata": {},
   "outputs": [],
   "source": [
    "popular_packages_running_times_df.to_csv(\"../results/running_times/bandit4mal/popular-packages.csv\")"
   ]
  },
  {
   "cell_type": "code",
   "execution_count": null,
   "id": "40e7a0a6",
   "metadata": {},
   "outputs": [],
   "source": [
    "popular_packages_running_times_df[\"running_time\"].describe()"
   ]
  },
  {
   "cell_type": "code",
   "execution_count": null,
   "id": "20262bfc",
   "metadata": {},
   "outputs": [],
   "source": [
    "# Parsing the results \n",
    "popular_results_path = os.path.abspath(\"../results/bandit4mal/popular/\")\n",
    "popular_results = parse_analysis_results(popular_results_path)"
   ]
  },
  {
   "cell_type": "markdown",
   "id": "a4166980",
   "metadata": {},
   "source": [
    "### Triggered rules in all Python files in popular packages"
   ]
  },
  {
   "cell_type": "code",
   "execution_count": null,
   "id": "812e74fa",
   "metadata": {},
   "outputs": [],
   "source": [
    "# Transform the results into DataFrame for analysis\n",
    "popular_results_df = pd.DataFrame(popular_results, columns=[\"package\", \"target\", \"rule\"])"
   ]
  },
  {
   "cell_type": "code",
   "execution_count": null,
   "id": "95eb90cf",
   "metadata": {},
   "outputs": [],
   "source": [
    "# Number of rules per package\n",
    "popular_packages_rules_groupby = popular_results_df.groupby('package')['rule']\n",
    "print(f\"Total number of rules: {popular_packages_rules_groupby.count().sum()}\")\n",
    "popular_packages_rules_groupby.count().describe()"
   ]
  },
  {
   "cell_type": "code",
   "execution_count": null,
   "id": "d6462546",
   "metadata": {},
   "outputs": [],
   "source": [
    "# Ratio of true positives to false postives \n",
    "thresholds = [1, 5, 10, 15, 20, 25, 30]\n",
    "scores = popular_packages_rules_groupby.count().to_list()\n",
    "thesholds_tpr_fpr_ratio = []\n",
    "for t in thresholds:\n",
    "    tp, fp = get_tp_fp(scores, t)\n",
    "    print(t, tp, fp)"
   ]
  },
  {
   "cell_type": "markdown",
   "id": "28872146",
   "metadata": {},
   "source": [
    "### Triggered rules in all setup.py files in popular packages"
   ]
  },
  {
   "cell_type": "code",
   "execution_count": null,
   "id": "7ab17be6",
   "metadata": {},
   "outputs": [],
   "source": [
    "popular_packages_rules_setup_df = popular_results_df[popular_results_df['target'].str.contains('setup.py')]"
   ]
  },
  {
   "cell_type": "code",
   "execution_count": null,
   "id": "12264b74",
   "metadata": {},
   "outputs": [],
   "source": [
    "# Number of rules per package\n",
    "popular_packages_rules_setup_groupby = popular_packages_rules_setup_df.groupby('package')['rule']\n",
    "print(f\"Total number of rules: {popular_packages_rules_setup_groupby.count().sum()}\")\n",
    "popular_packages_rules_setup_groupby.count().describe()"
   ]
  },
  {
   "cell_type": "code",
   "execution_count": null,
   "id": "d2b418c9",
   "metadata": {},
   "outputs": [],
   "source": [
    "# Ratio of true positives to false postives \n",
    "thresholds = [1, 2, 3, 4, 5]\n",
    "scores = popular_packages_rules_groupby.count().to_list()\n",
    "thesholds_tpr_fpr_ratio = []\n",
    "for t in thresholds:\n",
    "    tp, fp = get_tp_fp(scores, t)\n",
    "    print(t, tp, fp)"
   ]
  },
  {
   "cell_type": "code",
   "execution_count": null,
   "id": "2106345d",
   "metadata": {},
   "outputs": [],
   "source": [
    "# Saving the existing result\n",
    "with open(os.path.abspath(\"../results/bandit4mal/popular-packages.pkl\"), 'wb') as fp:\n",
    "    pickle.dump(popular_results, fp, protocol=pickle.HIGHEST_PROTOCOL)"
   ]
  },
  {
   "cell_type": "markdown",
   "id": "6b9f568a",
   "metadata": {},
   "source": [
    "## Random packages"
   ]
  },
  {
   "cell_type": "code",
   "execution_count": null,
   "id": "94dd1c48",
   "metadata": {},
   "outputs": [],
   "source": [
    "# Paths to random packags, and results dir\n",
    "random_packages_path = os.path.abspath(\"../dataset/random-packages/\")\n",
    "random_results_dir = os.path.abspath(\"../results/bandit4mal/random/\")"
   ]
  },
  {
   "cell_type": "code",
   "execution_count": null,
   "id": "16b7557b",
   "metadata": {},
   "outputs": [],
   "source": [
    "# Scanning packages and measure running time\n",
    "random_packages_running_time = scanning_packages(random_packages_path, random_results_dir)"
   ]
  },
  {
   "cell_type": "code",
   "execution_count": null,
   "id": "c2a87710",
   "metadata": {},
   "outputs": [],
   "source": [
    "random_packages_running_times_df = pd.DataFrame(list(random_packages_running_time.items()), columns=['package', 'running_time'])\n",
    "random_packages_running_times_df[\"running_time\"].describe()"
   ]
  },
  {
   "cell_type": "code",
   "execution_count": null,
   "id": "516cc2cf",
   "metadata": {},
   "outputs": [],
   "source": [
    "random_packages_running_times_df.to_csv(\"../results/running_times/bandit4mal/random-packages.csv\")"
   ]
  },
  {
   "cell_type": "code",
   "execution_count": null,
   "id": "da3773d3",
   "metadata": {},
   "outputs": [],
   "source": [
    "# Analyzing the results generated\n",
    "random_results_path = os.path.abspath(\"../results/bandit4mal/random/\")\n",
    "random_results = parse_analysis_results(random_results_path)"
   ]
  },
  {
   "cell_type": "markdown",
   "id": "f5d603d3",
   "metadata": {},
   "source": [
    "### Triggered rules in all Python files in random packages"
   ]
  },
  {
   "cell_type": "code",
   "execution_count": null,
   "id": "9720e1d9",
   "metadata": {},
   "outputs": [],
   "source": [
    "# Transform the results into Dataframe for analysis\n",
    "random_results_df = pd.DataFrame(random_results, columns=[\"package\", \"target\", \"rule\"])"
   ]
  },
  {
   "cell_type": "code",
   "execution_count": null,
   "id": "31e23fdf",
   "metadata": {},
   "outputs": [],
   "source": [
    "# Number of rules per package\n",
    "random_packages_rules_groupby = random_results_df.groupby('package')['rule']\n",
    "print(f\"Total number of rules: {random_packages_rules_groupby.count().sum()}\")\n",
    "random_packages_rules_groupby.count().describe()"
   ]
  },
  {
   "cell_type": "code",
   "execution_count": null,
   "id": "b33e0bde",
   "metadata": {},
   "outputs": [],
   "source": [
    "# Ratio of true positives to false postives \n",
    "thresholds = [1, 5, 10, 15, 20, 25, 30]\n",
    "scores = random_packages_rules_groupby.count().to_list()\n",
    "thesholds_tpr_fpr_ratio = []\n",
    "for t in thresholds:\n",
    "    tpr, fpr = get_tpr_fpr(scores, t)\n",
    "    print(t, round(tpr/fpr, 2))"
   ]
  },
  {
   "cell_type": "markdown",
   "id": "9281c871",
   "metadata": {},
   "source": [
    "### Triggered rules in all setup.py files in random packages"
   ]
  },
  {
   "cell_type": "code",
   "execution_count": null,
   "id": "7f55aa13",
   "metadata": {},
   "outputs": [],
   "source": [
    "# Selecting only setup.py files of the packages\n",
    "random_packages_rules_setup_df = random_results_df[random_results_df['target'].str.contains('setup.py')]"
   ]
  },
  {
   "cell_type": "code",
   "execution_count": null,
   "id": "80792fc5",
   "metadata": {},
   "outputs": [],
   "source": [
    "# Number of rules per package\n",
    "random_packages_rules_setup_groupby = random_packages_rules_setup_df.groupby('package')['rule']\n",
    "print(f\"Total number of rules: {random_packages_rules_setup_groupby.count().sum()}\")\n",
    "random_packages_rules_setup_groupby.count().describe()"
   ]
  },
  {
   "cell_type": "code",
   "execution_count": null,
   "id": "a2d7afd5",
   "metadata": {},
   "outputs": [],
   "source": [
    "# Ratio of true positives to false postives \n",
    "thresholds = [1, 2, 3, 4, 5]\n",
    "scores = random_packages_rules_setup_groupby.count().to_list()\n",
    "thesholds_tpr_fpr_ratio = []\n",
    "for t in thresholds:\n",
    "    tp, fp = get_tp_fp(scores, t)\n",
    "    print(t, tp, fp)"
   ]
  },
  {
   "cell_type": "code",
   "execution_count": null,
   "id": "254d4c03",
   "metadata": {},
   "outputs": [],
   "source": [
    "# Saving the existing result\n",
    "with open(os.path.abspath(\"../results/bandit4mal/random-packages.pkl\"), 'wb') as fp:\n",
    "    pickle.dump(random_results, fp, protocol=pickle.HIGHEST_PROTOCOL)"
   ]
  },
  {
   "cell_type": "code",
   "execution_count": null,
   "id": "ab66e404",
   "metadata": {},
   "outputs": [],
   "source": []
  }
 ],
 "metadata": {
  "kernelspec": {
   "display_name": "Python 3 (ipykernel)",
   "language": "python",
   "name": "python3"
  },
  "language_info": {
   "codemirror_mode": {
    "name": "ipython",
    "version": 3
   },
   "file_extension": ".py",
   "mimetype": "text/x-python",
   "name": "python",
   "nbconvert_exporter": "python",
   "pygments_lexer": "ipython3",
   "version": "3.8.10"
  }
 },
 "nbformat": 4,
 "nbformat_minor": 5
}
