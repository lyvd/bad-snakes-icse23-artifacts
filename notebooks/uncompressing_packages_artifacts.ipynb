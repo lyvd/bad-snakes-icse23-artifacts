{
 "cells": [
  {
   "cell_type": "code",
   "execution_count": 20,
   "id": "7a73f391",
   "metadata": {},
   "outputs": [],
   "source": [
    "import os\n",
    "import tarfile\n",
    "import zipfile\n",
    "from pathlib import Path\n",
    "import shutil"
   ]
  },
  {
   "cell_type": "code",
   "execution_count": 2,
   "id": "e4eea164",
   "metadata": {},
   "outputs": [],
   "source": [
    "# Extracting all artifacts\n",
    "def uncompressing_artifacts(packages_dir_path, dst_dir):\n",
    "    for subdir, dirs, files in os.walk(packages_dir_path):\n",
    "        for file in files:\n",
    "            extracted_dir = os.path.join(dst_dir, file.replace(\".tar.gz\", \"\").replace(\".whl\", \"\"))\n",
    "            if os.path.exists(extracted_dir):\n",
    "                continue\n",
    "            else:\n",
    "                os.mkdir(extracted_dir)\n",
    "            filepath = subdir + os.sep + file\n",
    "            try:\n",
    "                if str(file).endswith(\".tar.gz\"):\n",
    "                    tfile = tarfile.open(filepath)\n",
    "                    tfile.extractall(extracted_dir)\n",
    "                    tfile.close()\n",
    "                elif str(file).endswith(\".whl\"):\n",
    "                    with zipfile.ZipFile(filepath, 'r') as zip_ref:\n",
    "                        zip_ref.extractall(extracted_dir)\n",
    "\n",
    "            except Exception as e:\n",
    "                print(filepath, e)\n",
    "                continue\n"
   ]
  },
  {
   "cell_type": "code",
   "execution_count": 13,
   "id": "0b5b342f",
   "metadata": {},
   "outputs": [],
   "source": [
    "# Uncompress the popular packages \n",
    "popular_packages_path = os.path.abspath(\"../dataset/popular-packages/\")\n",
    "dst_dir = os.path.abspath(\"../dataset/popular-packages-uncompressed/\")\n",
    "uncompressing_artifacts(popular_packages_path, dst_dir)"
   ]
  },
  {
   "cell_type": "code",
   "execution_count": null,
   "id": "7d954b32",
   "metadata": {},
   "outputs": [],
   "source": []
  },
  {
   "cell_type": "code",
   "execution_count": 3,
   "id": "acc231ba",
   "metadata": {},
   "outputs": [
    {
     "name": "stdout",
     "output_type": "stream",
     "text": [
      "/home/lyvd/bad-snakes/dataset/random-packages/clifton-jasmine.tar.gz [Errno 13] Permission denied: '/Users'\n"
     ]
    }
   ],
   "source": [
    "# Uncompress the random packages dataset\n",
    "random_packages_path = os.path.abspath(\"../dataset/random-packages/\")\n",
    "dst_dir = os.path.abspath(\"../dataset/random-packages-uncompressed/\")\n",
    "uncompressing_artifacts(random_packages_path, dst_dir)"
   ]
  },
  {
   "cell_type": "code",
   "execution_count": null,
   "id": "e82b9480",
   "metadata": {},
   "outputs": [],
   "source": []
  },
  {
   "cell_type": "code",
   "execution_count": 6,
   "id": "7f520613",
   "metadata": {},
   "outputs": [],
   "source": [
    "# Uncompress the popular packages \n",
    "maloss_malicious_packages_path = os.path.abspath(\"../dataset/maloss-samples/pypi-samples/\")\n",
    "dst_dir = os.path.abspath(\"../dataset/malicious-packages-uncompressed/\")\n",
    "uncompressing_artifacts(maloss_malicious_packages_path, dst_dir)"
   ]
  },
  {
   "cell_type": "code",
   "execution_count": null,
   "id": "539f5821",
   "metadata": {},
   "outputs": [],
   "source": []
  },
  {
   "cell_type": "code",
   "execution_count": 1,
   "id": "b4001013",
   "metadata": {},
   "outputs": [],
   "source": [
    "import pandas as pd"
   ]
  },
  {
   "cell_type": "code",
   "execution_count": 24,
   "id": "7102c349",
   "metadata": {},
   "outputs": [],
   "source": [
    "maloss_packages_df = pd.read_csv(\"https://docs.google.com/spreadsheets/d/e/2PACX-1vQsBKZvbzDP0bb6be5C4fA-XxhFJixPYmDJUwl7tCCXF_h8XJlgX7E9dTrXaVu6ESYMNCxbkr4wpg8r/pub?gid=1072446582&single=true&output=csv\")"
   ]
  },
  {
   "cell_type": "code",
   "execution_count": 25,
   "id": "1f8a3281",
   "metadata": {},
   "outputs": [
    {
     "data": {
      "text/html": [
       "<div>\n",
       "<style scoped>\n",
       "    .dataframe tbody tr th:only-of-type {\n",
       "        vertical-align: middle;\n",
       "    }\n",
       "\n",
       "    .dataframe tbody tr th {\n",
       "        vertical-align: top;\n",
       "    }\n",
       "\n",
       "    .dataframe thead th {\n",
       "        text-align: right;\n",
       "    }\n",
       "</style>\n",
       "<table border=\"1\" class=\"dataframe\">\n",
       "  <thead>\n",
       "    <tr style=\"text-align: right;\">\n",
       "      <th></th>\n",
       "      <th>Package</th>\n",
       "      <th>Version</th>\n",
       "    </tr>\n",
       "  </thead>\n",
       "  <tbody>\n",
       "    <tr>\n",
       "      <th>0</th>\n",
       "      <td>aiohttp_socks4</td>\n",
       "      <td>0.8.55</td>\n",
       "    </tr>\n",
       "    <tr>\n",
       "      <th>1</th>\n",
       "      <td>aml-ds-pipeline-contrib</td>\n",
       "      <td>97.10.0</td>\n",
       "    </tr>\n",
       "    <tr>\n",
       "      <th>2</th>\n",
       "      <td>arduino</td>\n",
       "      <td>3.1.5</td>\n",
       "    </tr>\n",
       "    <tr>\n",
       "      <th>3</th>\n",
       "      <td>asdeefdzfzs</td>\n",
       "      <td>1.1</td>\n",
       "    </tr>\n",
       "    <tr>\n",
       "      <th>4</th>\n",
       "      <td>azure-cli-ml-private-preview</td>\n",
       "      <td>99.10.0</td>\n",
       "    </tr>\n",
       "  </tbody>\n",
       "</table>\n",
       "</div>"
      ],
      "text/plain": [
       "                        Package  Version\n",
       "0                aiohttp_socks4   0.8.55\n",
       "1       aml-ds-pipeline-contrib  97.10.0\n",
       "2                       arduino    3.1.5\n",
       "3                   asdeefdzfzs      1.1\n",
       "4  azure-cli-ml-private-preview  99.10.0"
      ]
     },
     "execution_count": 25,
     "metadata": {},
     "output_type": "execute_result"
    }
   ],
   "source": [
    "maloss_packages_df.head()"
   ]
  },
  {
   "cell_type": "code",
   "execution_count": 26,
   "id": "a72d2203",
   "metadata": {},
   "outputs": [
    {
     "name": "stdout",
     "output_type": "stream",
     "text": [
      "../dataset/malicious-packages/pypi-samples/aiohttp_socks4-0.8.55.tar.gz\n",
      "../dataset/malicious-packages/pypi-samples/aml-ds-pipeline-contrib-97.10.0.tar.gz\n",
      "../dataset/malicious-packages/pypi-samples/arduino-3.1.5.tar.gz\n",
      "../dataset/malicious-packages/pypi-samples/asdeefdzfzs-1.1.tar.gz\n",
      "../dataset/malicious-packages/pypi-samples/azure-cli-ml-private-preview-99.10.0.tar.gz\n",
      "../dataset/malicious-packages/pypi-samples/azure-cli-ml-preview-97.10.0.tar.gz\n",
      "../dataset/malicious-packages/pypi-samples/azureml-contrib-reports-99.10.0.tar.gz\n",
      "../dataset/malicious-packages/pypi-samples/azureml-contrib-jupyterrun-1.0.0.tar.gz\n",
      "../dataset/malicious-packages/pypi-samples/azureml-contrib-optimization-99.10.0.tar.gz\n",
      "../dataset/malicious-packages/pypi-samples/beautfulsoup-3.1.5.tar.gz\n",
      "../dataset/malicious-packages/pypi-samples/crypt-1.4.1.tar.gz\n",
      "../dataset/malicious-packages/pypi-samples/collored-0.0.7.tar.gz\n",
      "../dataset/malicious-packages/pypi-samples/covd-1.0.5.tar.gz\n",
      "../dataset/malicious-packages/pypi-samples/cupy-cuda112-2.2.2.tar.gz\n",
      "../dataset/malicious-packages/pypi-samples/discordcmd-0.0.2.tar.gz\n",
      "../dataset/malicious-packages/pypi-samples/distutil-1.0.tar.gz\n",
      "../dataset/malicious-packages/pypi-samples/ecopower-1.3.tar.gz\n",
      "../dataset/malicious-packages/pypi-samples/fleshh-1.2.tar.gz\n",
      "../dataset/malicious-packages/pypi-samples/floogle-0.7.tar.gz\n",
      "../dataset/malicious-packages/pypi-samples/gearbest_parser-2.0.7.tar.gz\n",
      "../dataset/malicious-packages/pypi-samples/hipid-4.0.0.tar.gz\n",
      "../dataset/malicious-packages/pypi-samples/huehuehuehue-0.0.0.tar.gz\n",
      "../dataset/malicious-packages/pypi-samples/infoglmi-0.0.8.tar.gz\n",
      "../dataset/malicious-packages/pypi-samples/ipahttp-1.0.0.tar.gz\n",
      "../dataset/malicious-packages/pypi-samples/jajajejejiji-1000.0.0.tar.gz\n",
      "../dataset/malicious-packages/pypi-samples/karapace-2.4.3.tar.gz\n",
      "../dataset/malicious-packages/pypi-samples/librat-1.1.tar.gz\n",
      "../dataset/malicious-packages/pypi-samples/multilingual_t5-0.7.tar.gz\n",
      "../dataset/malicious-packages/pypi-samples/my_project100-0.1.0.tar.gz\n",
      "../dataset/malicious-packages/pypi-samples/my_project10101-0.1.0.tar.gz\n",
      "../dataset/malicious-packages/pypi-samples/my_project101011-0.1.0.tar.gz\n",
      "../dataset/malicious-packages/pypi-samples/openbabel_python-1.7.tar.gz\n",
      "../dataset/malicious-packages/pypi-samples/openrobotics-2.1.tar.gz\n",
      "../dataset/malicious-packages/pypi-samples/peloton-clients-0.8.0.tar.gz\n",
      "../dataset/malicious-packages/pypi-samples/pilloe-3.1.5.tar.gz\n",
      "../dataset/malicious-packages/pypi-samples/pilow-3.1.6.tar.gz\n",
      "../dataset/malicious-packages/pypi-samples/pmpo-1.0.0.tar.gz\n",
      "../dataset/malicious-packages/pypi-samples/pycache__pycparser-2.19.tar.gz\n",
      "../dataset/malicious-packages/pypi-samples/pymafka-1.0.tar.gz\n",
      "../dataset/malicious-packages/pypi-samples/python-dateutils-3.0.3.tar.gz\n",
      "../dataset/malicious-packages/pypi-samples/rasyp-0.1.0.tar.gz\n",
      "../dataset/malicious-packages/pypi-samples/randam-3.1.5.tar.gz\n",
      "../dataset/malicious-packages/pypi-samples/reequests-2.27.1.tar.gz\n",
      "../dataset/malicious-packages/pypi-samples/reqquests-2.27.1.tar.gz\n",
      "../dataset/malicious-packages/pypi-samples/requeests-2.27.1.tar.gz\n",
      "../dataset/malicious-packages/pypi-samples/requess-2.27.1.tar.gz\n",
      "../dataset/malicious-packages/pypi-samples/reisas-0.1.0.tar.gz\n",
      "../dataset/malicious-packages/pypi-samples/requuests-2.27.1.tar.gz\n",
      "../dataset/malicious-packages/pypi-samples/rstseuqe-1000.0.0.tar.gz\n",
      "../dataset/malicious-packages/pypi-samples/sdk-cli-v2-97.10.0.tar.gz\n",
      "../dataset/malicious-packages/pypi-samples/sdk-cli-v2-public-97.10.0.tar.gz\n",
      "../dataset/malicious-packages/pypi-samples/secbg-0.0.9.tar.gz\n",
      "../dataset/malicious-packages/pypi-samples/secrevthree-0.0.2.tar.gz\n",
      "../dataset/malicious-packages/pypi-samples/selemium-3.1.5.tar.gz\n",
      "../dataset/malicious-packages/pypi-samples/setup-tools-36.0.1.tar.gz\n",
      "../dataset/malicious-packages/pypi-samples/skale-allocator-cli-1.0.0.tar.gz\n",
      "../dataset/malicious-packages/pypi-samples/skd64-0.3.tar.gz\n",
      "../dataset/malicious-packages/pypi-samples/testing_pip_confusion-1.0.0.tar.gz\n",
      "../dataset/malicious-packages/pypi-samples/tkinter-message-box-0.0.1.tar.gz\n",
      "../dataset/malicious-packages/pypi-samples/xcryptography-36.0.0.tar.gz\n",
      "../dataset/malicious-packages/pypi-samples/xgoogle_cloud_core-2.2.1.tar.gz\n",
      "../dataset/malicious-packages/pypi-samples/xgoogle_cloud_storage-1.33.0.tar.gz\n",
      "../dataset/malicious-packages/pypi-samples/xpip-20.2.4.tar.gz\n",
      "../dataset/malicious-packages/pypi-samples/xsetuptools-58.2.0.tar.gz\n"
     ]
    }
   ],
   "source": [
    "dst_dir = os.path.abspath(\"../dataset/malicious-packages/\")\n",
    "for index, row in maloss_packages_df.iterrows():\n",
    "    artifact = f\"{row['Package']}-{row['Version']}.tar.gz\"\n",
    "    maloss_samples_path = \"../dataset/malicious-packages/pypi-samples/\"\n",
    "    artifact_path = os.path.join(maloss_samples_path, artifact)\n",
    "    print(artifact_path)\n",
    "    extracted_dir = Path(dst_dir, row['Package'], row['Version'])\n",
    "    if extracted_dir.exists():\n",
    "        continue\n",
    "    extracted_dir.mkdir(parents=True, exist_ok=True)\n",
    "    if str(artifact_path).endswith(\".tar.gz\"):\n",
    "        try:\n",
    "            tfile = tarfile.open(artifact_path)\n",
    "        except Exception as e:\n",
    "            continue\n",
    "        tfile.extractall(extracted_dir)\n",
    "        tfile.close()"
   ]
  },
  {
   "cell_type": "code",
   "execution_count": 31,
   "id": "f10edb9e",
   "metadata": {},
   "outputs": [],
   "source": [
    "import os\n",
    "packages_dir = os.path.abspath(\"../dataset/malicious-packages/\")\n",
    "for r, d, f in os.walk(packages_dir):\n",
    "    for file in f:\n",
    "        extracted_dir = r\n",
    "        artifact_path = os.path.join(r, file)\n",
    "\n",
    "        if str(artifact_path).endswith(\".tar.gz\"):\n",
    "            tfile = tarfile.open(artifact_path)\n",
    "            tfile.extractall(extracted_dir)\n",
    "            tfile.close()\n",
    "        elif str(artifact_path).endswith((\".whl\", \".zip\", \".egg\")) :\n",
    "            with zipfile.ZipFile(artifact_path, 'r') as zip_ref:\n",
    "                zip_ref.extractall(extracted_dir)\n",
    "        os.remove(artifact_path)"
   ]
  },
  {
   "cell_type": "code",
   "execution_count": null,
   "id": "8e796e30",
   "metadata": {},
   "outputs": [],
   "source": []
  }
 ],
 "metadata": {
  "kernelspec": {
   "display_name": "Python 3 (ipykernel)",
   "language": "python",
   "name": "python3"
  },
  "language_info": {
   "codemirror_mode": {
    "name": "ipython",
    "version": 3
   },
   "file_extension": ".py",
   "mimetype": "text/x-python",
   "name": "python",
   "nbconvert_exporter": "python",
   "pygments_lexer": "ipython3",
   "version": "3.8.10"
  }
 },
 "nbformat": 4,
 "nbformat_minor": 5
}
