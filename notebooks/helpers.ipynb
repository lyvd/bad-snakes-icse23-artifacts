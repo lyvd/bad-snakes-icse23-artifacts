{
 "cells": [
  {
   "cell_type": "code",
   "execution_count": null,
   "id": "1912a9d1",
   "metadata": {},
   "outputs": [],
   "source": [
    "# Extracting file extensions\n",
    "def extracting_file_extensions(packages_dir_path):\n",
    "    file_extensions = []\n",
    "    for subdir, dirs, files in os.walk(packages_dir_path):\n",
    "        for file in files:\n",
    "            filepath = subdir + os.sep + file\n",
    "            filename, file_extension = os.path.splitext(filepath)\n",
    "            file_extensions.append(file_extension)\n",
    "    return file_extensions"
   ]
  }
 ],
 "metadata": {
  "kernelspec": {
   "display_name": "Python 3 (ipykernel)",
   "language": "python",
   "name": "python3"
  },
  "language_info": {
   "codemirror_mode": {
    "name": "ipython",
    "version": 3
   },
   "file_extension": ".py",
   "mimetype": "text/x-python",
   "name": "python",
   "nbconvert_exporter": "python",
   "pygments_lexer": "ipython3",
   "version": "3.10.4"
  }
 },
 "nbformat": 4,
 "nbformat_minor": 5
}
