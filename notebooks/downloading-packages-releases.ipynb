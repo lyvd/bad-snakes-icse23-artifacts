{
 "cells": [
  {
   "cell_type": "code",
   "execution_count": null,
   "id": "322bbc4c",
   "metadata": {},
   "outputs": [],
   "source": [
    "import os\n",
    "import glob\n",
    "import magic\n",
    "from pathlib import Path\n",
    "import shutil\n",
    "import subprocess\n",
    "import tarfile\n",
    "import zipfile"
   ]
  },
  {
   "cell_type": "code",
   "execution_count": null,
   "id": "40e742fd",
   "metadata": {},
   "outputs": [],
   "source": [
    "# Extracting all artifacts\n",
    "def uncompressing_artifact(package_name, artifact_file, dst_dir):\n",
    "    extracted_dir = os.path.join(dst_dir, package_name)\n",
    "  \n",
    "    if not os.path.exists(extracted_dir):\n",
    "        os.mkdir(extracted_dir)       \n",
    "        if str(artifact_file).endswith(\".tar.gz\"):\n",
    "            tfile = tarfile.open(artifact_file)\n",
    "            tfile.extractall(extracted_dir)\n",
    "            tfile.close()\n",
    "        elif str(artifact_file).endswith((\".whl\", \".zip\", \".egg\")) :\n",
    "            with zipfile.ZipFile(artifact_file, 'r') as zip_ref:\n",
    "                zip_ref.extractall(extracted_dir)"
   ]
  },
  {
   "cell_type": "code",
   "execution_count": null,
   "id": "7ce972f7",
   "metadata": {},
   "outputs": [],
   "source": [
    "# We use OSSGadget oss-download to download a release of a package\n",
    "oss_download_path = os.path.abspath(\"../scanners/OSSGadget/src/oss-download/bin/Debug/net6.0/oss-download\")"
   ]
  },
  {
   "cell_type": "code",
   "execution_count": null,
   "id": "38a751d1",
   "metadata": {},
   "outputs": [],
   "source": [
    "packages_list_path = \"LIST TO FILE CONTAINING PACKAGE NAMES\"\n",
    "packages_downloaded_dir = os.path.abspath(\"../dataset/popular-packages\")"
   ]
  },
  {
   "cell_type": "code",
   "execution_count": null,
   "id": "10d919f1",
   "metadata": {},
   "outputs": [],
   "source": [
    "def download_packages(packages_list_path, packages_dir):\n",
    "    with open(packages_list_path) as file:\n",
    "        while (package := file.readline().rstrip()):\n",
    "            p = subprocess.run([oss_download_path, \"--download-metadata-only\", f\"pkg:pypi/{package}\"], capture_output=True, text=True)\n",
    "            version_lst = p.stderr.split(\"@\")[-1].split(\"-\")\n",
    "            # Extracting version of a package\n",
    "            version = \"\"\n",
    "\n",
    "            if version_lst:\n",
    "                try:\n",
    "                    version = version_lst[:-1][0]\n",
    "                except IndexError:\n",
    "                    # in some cases, packages names do not appear in right formats, but that's not so important\n",
    "                    version = version_lst[0].replace(\".tar.gz\", \"\")\n",
    "            else:\n",
    "                version = version_lst[0]\n",
    "            print(package, version)\n",
    "            dst_dir = Path(packages_dir, package, version)\n",
    "\n",
    "            # Fresh new downloads here to avoid confusions\n",
    "            if dst_dir.exists():\n",
    "                continue\n",
    "                #shutil.rmtree(dst_dir)\n",
    "            dst_dir.mkdir(parents=True, exist_ok=True)\n",
    "\n",
    "            subprocess.run([oss_download_path, \"--download-directory\", dst_dir, f\"pkg:pypi/{package}\"])\n",
    "\n",
    "            artifacts = glob.glob(f\"{dst_dir}/*\")\n",
    "\n",
    "            # Prioritize source tarballs over distibutions as they have setup.py files\n",
    "            for artifact in artifacts:\n",
    "                artifact_type = magic.from_file(artifact).lower()\n",
    "                if artifact.endswith(\".tar.gz\") and artifact_type.startswith(\"gzip\"):\n",
    "                    tfile = tarfile.open(artifact)\n",
    "                    tfile.extractall(dst_dir)\n",
    "                    tfile.close()\n",
    "                    os.remove(artifact)\n",
    "                    break\n",
    "                # In some cases, oss-download misrecognize zip files as tar files\n",
    "                elif (artifact.endswith(\".tar.gz\") and artifact_type.startswith(\"zip\")) or (artifact.endswith(\".zip\") and artifact_type.startswith(\"zip\")):\n",
    "                    with zipfile.ZipFile(artifact, 'r') as zip_ref:\n",
    "                        zip_ref.extractall(dst_dir)\n",
    "                        zip_ref.close()\n",
    "                        os.remove(artifact)\n",
    "                        break\n",
    "            else:\n",
    "                if artifact_type.startswith((\"zip\")):\n",
    "                    with zipfile.ZipFile(artifact, 'r') as zip_ref:\n",
    "                        zip_ref.extractall(dst_dir)\n",
    "                        zip_ref.close()\n",
    "                        os.remove(artifact)\n",
    "\n",
    "            # Clean up the downloaded directory to only keep the uncompressed directory\n",
    "            for item in os.listdir(dst_dir):\n",
    "                left_over_file = os.path.join(dst_dir, item)\n",
    "                if os.path.isfile(left_over_file):\n",
    "                    os.remove(left_over_file)\n"
   ]
  }
 ],
 "metadata": {
  "kernelspec": {
   "display_name": "Python 3 (ipykernel)",
   "language": "python",
   "name": "python3"
  },
  "language_info": {
   "codemirror_mode": {
    "name": "ipython",
    "version": 3
   },
   "file_extension": ".py",
   "mimetype": "text/x-python",
   "name": "python",
   "nbconvert_exporter": "python",
   "pygments_lexer": "ipython3",
   "version": "3.8.10"
  }
 },
 "nbformat": 4,
 "nbformat_minor": 5
}
