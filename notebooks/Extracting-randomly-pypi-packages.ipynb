{
 "cells": [
  {
   "cell_type": "code",
   "execution_count": 8,
   "id": "556d6c53",
   "metadata": {},
   "outputs": [],
   "source": [
    "import requests\n",
    "from bs4 import BeautifulSoup\n",
    "import os\n",
    "import random"
   ]
  },
  {
   "cell_type": "code",
   "execution_count": 4,
   "id": "b5de4d09",
   "metadata": {},
   "outputs": [],
   "source": [
    "pypi_simple_index_url = \"https://pypi.org/simple/\""
   ]
  },
  {
   "cell_type": "code",
   "execution_count": 5,
   "id": "d5cceb4f",
   "metadata": {},
   "outputs": [],
   "source": [
    "page = requests.get(pypi_simple_index_url)"
   ]
  },
  {
   "cell_type": "code",
   "execution_count": 8,
   "id": "80da9fcd",
   "metadata": {},
   "outputs": [],
   "source": [
    "all_pypi_packages = set()\n",
    "soup = BeautifulSoup(page.content, \"html.parser\")\n",
    "for a in soup.find_all('a', href=True):\n",
    "    all_pypi_packages.add(a['href'].split(\"/\")[2])"
   ]
  },
  {
   "cell_type": "code",
   "execution_count": 12,
   "id": "b281621e",
   "metadata": {},
   "outputs": [
    {
     "name": "stdout",
     "output_type": "stream",
     "text": [
      "Number of PyPI packages: 382,724\n"
     ]
    }
   ],
   "source": [
    "print(f\"Number of PyPI packages: {len(all_pypi_packages):,}\")"
   ]
  },
  {
   "cell_type": "code",
   "execution_count": 15,
   "id": "dfb7a15f",
   "metadata": {},
   "outputs": [],
   "source": [
    "# Saving the list of top pypi packages by dependents to storage\n",
    "result_file = os.path.abspath(\"../dataset/popular-packages/all-pypi-packages.txt\")\n",
    "with open(result_file, 'w') as f:\n",
    "    for item in all_pypi_packages:\n",
    "        f.write(\"%s\\n\" % item)"
   ]
  },
  {
   "cell_type": "code",
   "execution_count": 18,
   "id": "0f1db701",
   "metadata": {},
   "outputs": [
    {
     "name": "stderr",
     "output_type": "stream",
     "text": [
      "/tmp/ipykernel_17876/55504147.py:1: DeprecationWarning: Sampling from a set deprecated\n",
      "since Python 3.9 and will be removed in a subsequent version.\n",
      "  thousand_random_packages = random.sample(all_pypi_packages, 1000)\n"
     ]
    }
   ],
   "source": [
    "# Check if for replacement\n",
    "thousand_random_packages = random.sample(all_pypi_packages, 1000)"
   ]
  },
  {
   "cell_type": "code",
   "execution_count": 20,
   "id": "d8163d77",
   "metadata": {},
   "outputs": [],
   "source": [
    "# Saving the list of top pypi packages by dependents to storage\n",
    "result_file = os.path.abspath(\"../dataset/popular-packages/a-thousand-pypi-packages.txt\")\n",
    "with open(result_file, 'w') as f:\n",
    "    for item in thousand_random_packages:\n",
    "        f.write(\"%s\\n\" % item)"
   ]
  },
  {
   "cell_type": "code",
   "execution_count": null,
   "id": "10287d59",
   "metadata": {},
   "outputs": [],
   "source": []
  },
  {
   "cell_type": "code",
   "execution_count": 44,
   "id": "5272a29c",
   "metadata": {},
   "outputs": [
    {
     "name": "stdout",
     "output_type": "stream",
     "text": [
      "381724\n"
     ]
    }
   ],
   "source": [
    "# Saving the list of top pypi packages by dependents to storage\n",
    "all_pypi_packages_filepath = os.path.abspath(\"../dataset/popular-packages/all-pypi-packages.txt\")\n",
    "with open(all_pypi_packages_filepath) as f:\n",
    "    all_pypi_packages = f.read().splitlines()\n",
    "    \n",
    "a_thousand_random_packages_filepath = os.path.abspath(\"../dataset/popular-packages/a-thousand-pypi-packages.txt\")\n",
    "with open(a_thousand_random_packages_filepath) as f:\n",
    "    a_thousand_random_packages = f.read().splitlines()\n",
    "    \n",
    "left_over_packages =  set(all_pypi_packages) - set(a_thousand_random_packages)\n",
    "print(len(left_over_packages))"
   ]
  },
  {
   "cell_type": "code",
   "execution_count": 45,
   "id": "a8196028",
   "metadata": {},
   "outputs": [
    {
     "data": {
      "text/plain": [
       "382724"
      ]
     },
     "execution_count": 45,
     "metadata": {},
     "output_type": "execute_result"
    }
   ],
   "source": [
    "len(all_pypi_packages)"
   ]
  },
  {
   "cell_type": "code",
   "execution_count": 46,
   "id": "fa8d4ee8",
   "metadata": {},
   "outputs": [
    {
     "name": "stdout",
     "output_type": "stream",
     "text": [
      "1000\n"
     ]
    },
    {
     "name": "stderr",
     "output_type": "stream",
     "text": [
      "/tmp/ipykernel_23346/905010012.py:2: DeprecationWarning: Sampling from a set deprecated\n",
      "since Python 3.9 and will be removed in a subsequent version.\n",
      "  additional_random_packages = random.sample(left_over_packages, 1000)\n"
     ]
    }
   ],
   "source": [
    "# Check if for replacement\n",
    "additional_random_packages = random.sample(left_over_packages, 1000)\n",
    "print(len(additional_random_packages))"
   ]
  },
  {
   "cell_type": "code",
   "execution_count": 47,
   "id": "ed4be45a",
   "metadata": {},
   "outputs": [],
   "source": [
    "# Saving the list of top pypi packages by dependents to storage\n",
    "result_file = os.path.abspath(\"../dataset/popular-packages/additional-thousand-pypi-packages.txt\")\n",
    "with open(result_file, 'w') as f:\n",
    "    for item in additional_random_packages:\n",
    "        f.write(\"%s\\n\" % item)"
   ]
  },
  {
   "cell_type": "code",
   "execution_count": null,
   "id": "a62b0f18",
   "metadata": {},
   "outputs": [],
   "source": []
  }
 ],
 "metadata": {
  "kernelspec": {
   "display_name": "Python 3 (ipykernel)",
   "language": "python",
   "name": "python3"
  },
  "language_info": {
   "codemirror_mode": {
    "name": "ipython",
    "version": 3
   },
   "file_extension": ".py",
   "mimetype": "text/x-python",
   "name": "python",
   "nbconvert_exporter": "python",
   "pygments_lexer": "ipython3",
   "version": "3.8.10"
  }
 },
 "nbformat": 4,
 "nbformat_minor": 5
}
