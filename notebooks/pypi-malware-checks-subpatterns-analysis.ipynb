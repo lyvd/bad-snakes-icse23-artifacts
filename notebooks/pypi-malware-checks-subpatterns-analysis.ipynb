{
 "cells": [
  {
   "cell_type": "code",
   "execution_count": 11,
   "id": "0ab6af93",
   "metadata": {},
   "outputs": [],
   "source": [
    "import os\n",
    "import pandas as pd\n",
    "import pickle\n",
    "from typing import Dict, List"
   ]
  },
  {
   "cell_type": "code",
   "execution_count": 7,
   "id": "fde45320",
   "metadata": {},
   "outputs": [],
   "source": [
    "# Collecting subpatterns of the alerts of the packages\n",
    "def collect_subpatterns(packages_scanning_results: Dict[str, str]) -> List[str]:\n",
    "    packages_subpatterns = []\n",
    "    for package, files in packages_scanning_results.items():\n",
    "        for file_ in files:\n",
    "            if file_[\"strings\"]:\n",
    "                for subpattern in file_[\"strings\"]:\n",
    "                    packages_subpatterns.append([package, file_[\"target\"], file_[\"rule\"], subpattern[0], subpattern[1], subpattern[2]])\n",
    "                    \n",
    "    return packages_subpatterns"
   ]
  },
  {
   "cell_type": "code",
   "execution_count": 8,
   "id": "4bcca8db",
   "metadata": {},
   "outputs": [],
   "source": [
    "# Loading the existing result\n",
    "with open(os.path.abspath(\"../results/malicious_packages_scanning_results_pypi_malwarechecks.pkl\"), 'rb') as fp:\n",
    "    malicious_packages_scanning_results = pickle.load(fp)"
   ]
  },
  {
   "cell_type": "code",
   "execution_count": 12,
   "id": "ed6758b8",
   "metadata": {},
   "outputs": [],
   "source": [
    "malicious_subpatterns = collect_subpatterns(malicious_packages_scanning_results)"
   ]
  },
  {
   "cell_type": "code",
   "execution_count": 15,
   "id": "bd954323",
   "metadata": {},
   "outputs": [],
   "source": [
    "malicious_subpatterns_df = pd.DataFrame(malicious_subpatterns, columns=[\"package\", \"target\", \"rule\", \"line_number\", \"subpattern\", \"line_content\"])"
   ]
  },
  {
   "cell_type": "code",
   "execution_count": 16,
   "id": "8f4d3879",
   "metadata": {},
   "outputs": [
    {
     "data": {
      "text/html": [
       "<div>\n",
       "<style scoped>\n",
       "    .dataframe tbody tr th:only-of-type {\n",
       "        vertical-align: middle;\n",
       "    }\n",
       "\n",
       "    .dataframe tbody tr th {\n",
       "        vertical-align: top;\n",
       "    }\n",
       "\n",
       "    .dataframe thead th {\n",
       "        text-align: right;\n",
       "    }\n",
       "</style>\n",
       "<table border=\"1\" class=\"dataframe\">\n",
       "  <thead>\n",
       "    <tr style=\"text-align: right;\">\n",
       "      <th></th>\n",
       "      <th>package</th>\n",
       "      <th>target</th>\n",
       "      <th>rule</th>\n",
       "      <th>line_number</th>\n",
       "      <th>subpattern</th>\n",
       "      <th>line_content</th>\n",
       "    </tr>\n",
       "  </thead>\n",
       "  <tbody>\n",
       "    <tr>\n",
       "      <th>0</th>\n",
       "      <td>important-package</td>\n",
       "      <td>/home/lyvd/bad-snakes/dataset/malicious-packag...</td>\n",
       "      <td>deserialization_in_setup</td>\n",
       "      <td>63</td>\n",
       "      <td>$import_base64</td>\n",
       "      <td>b'import base64'</td>\n",
       "    </tr>\n",
       "    <tr>\n",
       "      <th>1</th>\n",
       "      <td>important-package</td>\n",
       "      <td>/home/lyvd/bad-snakes/dataset/malicious-packag...</td>\n",
       "      <td>metaprogramming_in_setup</td>\n",
       "      <td>613</td>\n",
       "      <td>$dir_call</td>\n",
       "      <td>b'dir()'</td>\n",
       "    </tr>\n",
       "    <tr>\n",
       "      <th>2</th>\n",
       "      <td>important-package</td>\n",
       "      <td>/home/lyvd/bad-snakes/dataset/malicious-packag...</td>\n",
       "      <td>networking_in_setup</td>\n",
       "      <td>382</td>\n",
       "      <td>$from_socket_import</td>\n",
       "      <td>b'from socket import'</td>\n",
       "    </tr>\n",
       "    <tr>\n",
       "      <th>3</th>\n",
       "      <td>important-package</td>\n",
       "      <td>/home/lyvd/bad-snakes/dataset/malicious-packag...</td>\n",
       "      <td>networking_in_setup</td>\n",
       "      <td>0</td>\n",
       "      <td>$from_urllib_import</td>\n",
       "      <td>b'from urllib import'</td>\n",
       "    </tr>\n",
       "    <tr>\n",
       "      <th>4</th>\n",
       "      <td>important-package</td>\n",
       "      <td>/home/lyvd/bad-snakes/dataset/malicious-packag...</td>\n",
       "      <td>networking_in_setup</td>\n",
       "      <td>49</td>\n",
       "      <td>$import_socket</td>\n",
       "      <td>b'import socket'</td>\n",
       "    </tr>\n",
       "  </tbody>\n",
       "</table>\n",
       "</div>"
      ],
      "text/plain": [
       "             package                                             target  \\\n",
       "0  important-package  /home/lyvd/bad-snakes/dataset/malicious-packag...   \n",
       "1  important-package  /home/lyvd/bad-snakes/dataset/malicious-packag...   \n",
       "2  important-package  /home/lyvd/bad-snakes/dataset/malicious-packag...   \n",
       "3  important-package  /home/lyvd/bad-snakes/dataset/malicious-packag...   \n",
       "4  important-package  /home/lyvd/bad-snakes/dataset/malicious-packag...   \n",
       "\n",
       "                       rule  line_number           subpattern  \\\n",
       "0  deserialization_in_setup           63       $import_base64   \n",
       "1  metaprogramming_in_setup          613            $dir_call   \n",
       "2       networking_in_setup          382  $from_socket_import   \n",
       "3       networking_in_setup            0  $from_urllib_import   \n",
       "4       networking_in_setup           49       $import_socket   \n",
       "\n",
       "            line_content  \n",
       "0       b'import base64'  \n",
       "1               b'dir()'  \n",
       "2  b'from socket import'  \n",
       "3  b'from urllib import'  \n",
       "4       b'import socket'  "
      ]
     },
     "execution_count": 16,
     "metadata": {},
     "output_type": "execute_result"
    }
   ],
   "source": [
    "malicious_subpatterns_df.head()"
   ]
  },
  {
   "cell_type": "code",
   "execution_count": 23,
   "id": "80147c5f",
   "metadata": {},
   "outputs": [
    {
     "data": {
      "text/plain": [
       "$assign_alias_os            2693\n",
       "$alias_system               1051\n",
       "$getattr_call                983\n",
       "$alias_Popen                 780\n",
       "$dir_call                    638\n",
       "$assign_alias_subprocess     627\n",
       "$bare_system                 354\n",
       "$alias_check_call            320\n",
       "$obfuscation_chr             309\n",
       "$import_urllib_sub           293\n",
       "Name: subpattern, dtype: int64"
      ]
     },
     "execution_count": 23,
     "metadata": {},
     "output_type": "execute_result"
    }
   ],
   "source": [
    "# Top 10 most subpatterns in the malicious packages\n",
    "malicious_subpatterns_df.subpattern.value_counts().head(10)"
   ]
  },
  {
   "cell_type": "code",
   "execution_count": null,
   "id": "d8df942d",
   "metadata": {},
   "outputs": [],
   "source": []
  },
  {
   "cell_type": "code",
   "execution_count": 24,
   "id": "57af6791",
   "metadata": {},
   "outputs": [],
   "source": [
    "# Path to the popular packages dataset\n",
    "popular_packages_path = os.path.abspath(\"../dataset/popular-packages\")"
   ]
  },
  {
   "cell_type": "code",
   "execution_count": 25,
   "id": "78e28114",
   "metadata": {},
   "outputs": [],
   "source": [
    "# Loading the existing result\n",
    "with open(os.path.abspath(\"../results/popular_packages_scanning_results_pypi_malwarechecks.pkl\"), 'rb') as fp:\n",
    "    popular_packages_scanning_results = pickle.load(fp)"
   ]
  },
  {
   "cell_type": "code",
   "execution_count": 26,
   "id": "db762e3e",
   "metadata": {},
   "outputs": [],
   "source": [
    "popular_subpatterns = collect_subpatterns(popular_packages_scanning_results)"
   ]
  },
  {
   "cell_type": "code",
   "execution_count": 27,
   "id": "c9a38631",
   "metadata": {},
   "outputs": [],
   "source": [
    "popular_subpatterns_df = pd.DataFrame(popular_subpatterns, columns=[\"package\", \"target\", \"rule\", \"line_number\", \"subpattern\", \"line_content\"])"
   ]
  },
  {
   "cell_type": "code",
   "execution_count": 28,
   "id": "5abd7322",
   "metadata": {},
   "outputs": [
    {
     "data": {
      "text/plain": [
       "$assign_alias_os            56271\n",
       "$dir_call                   55383\n",
       "$getattr_call               26103\n",
       "$alias_exec                 19810\n",
       "$assign_alias_subprocess    18646\n",
       "$alias_run                  16493\n",
       "$bare_run                   14841\n",
       "$alias_call                 14079\n",
       "$vars_call                  13335\n",
       "$bare_exec                  13228\n",
       "Name: subpattern, dtype: int64"
      ]
     },
     "execution_count": 28,
     "metadata": {},
     "output_type": "execute_result"
    }
   ],
   "source": [
    "# Top 10 most subpatterns in the malicious packages\n",
    "popular_subpatterns_df.subpattern.value_counts().head(10)"
   ]
  },
  {
   "cell_type": "code",
   "execution_count": null,
   "id": "d27d1cb4",
   "metadata": {},
   "outputs": [],
   "source": []
  },
  {
   "cell_type": "code",
   "execution_count": 30,
   "id": "25518eab",
   "metadata": {},
   "outputs": [],
   "source": [
    "# Loading the existing result\n",
    "with open(os.path.abspath(\"../results/random_packages_scanning_results_pypi_malwarechecks.pkl\"), 'rb') as fp:\n",
    "    random_packages_scanning_results = pickle.load(fp)"
   ]
  },
  {
   "cell_type": "code",
   "execution_count": 31,
   "id": "9e8923fc",
   "metadata": {},
   "outputs": [],
   "source": [
    "random_subpatterns = collect_subpatterns(random_packages_scanning_results)"
   ]
  },
  {
   "cell_type": "code",
   "execution_count": 32,
   "id": "08b192c1",
   "metadata": {},
   "outputs": [],
   "source": [
    "random_subpatterns_df = pd.DataFrame(random_subpatterns, columns=[\"package\", \"target\", \"rule\", \"line_number\", \"subpattern\", \"line_content\"])"
   ]
  },
  {
   "cell_type": "code",
   "execution_count": 33,
   "id": "2f751d39",
   "metadata": {},
   "outputs": [
    {
     "data": {
      "text/plain": [
       "$dir_call                   8378\n",
       "$assign_alias_os            7753\n",
       "$alias_system               6001\n",
       "$bare_system                5375\n",
       "$alias_exec                 2716\n",
       "$getattr_call               2485\n",
       "$assign_alias_subprocess    2338\n",
       "$alias_run                  1630\n",
       "$alias_Popen                1621\n",
       "$bare_exec                  1569\n",
       "Name: subpattern, dtype: int64"
      ]
     },
     "execution_count": 33,
     "metadata": {},
     "output_type": "execute_result"
    }
   ],
   "source": [
    "# Top 10 most subpatterns in the malicious packages\n",
    "random_subpatterns_df.subpattern.value_counts().head(10)"
   ]
  },
  {
   "cell_type": "code",
   "execution_count": null,
   "id": "36c53b8d",
   "metadata": {},
   "outputs": [],
   "source": []
  }
 ],
 "metadata": {
  "kernelspec": {
   "display_name": "Python 3 (ipykernel)",
   "language": "python",
   "name": "python3"
  },
  "language_info": {
   "codemirror_mode": {
    "name": "ipython",
    "version": 3
   },
   "file_extension": ".py",
   "mimetype": "text/x-python",
   "name": "python",
   "nbconvert_exporter": "python",
   "pygments_lexer": "ipython3",
   "version": "3.10.4"
  }
 },
 "nbformat": 4,
 "nbformat_minor": 5
}
