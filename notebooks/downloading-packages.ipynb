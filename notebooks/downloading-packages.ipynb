{
 "cells": [
  {
   "cell_type": "markdown",
   "id": "39bd71ba",
   "metadata": {},
   "source": [
    "### This notebook is used for downloading the latest releases of the PyPI packages. To do so, we need:\n",
    "- Extract the metadata of a package\n",
    "- Compare the timestamps of the releases to get the most recent release\n",
    "- Download the latest reelease with the URL provided in the meatadata"
   ]
  },
  {
   "cell_type": "code",
   "execution_count": 1,
   "id": "16eb9861",
   "metadata": {},
   "outputs": [],
   "source": [
    "from urllib.request import urlopen, Request, urlretrieve\n",
    "import json\n",
    "from datetime import date, time, datetime\n",
    "from dateutil import parser\n",
    "import os\n",
    "from urllib.error import HTTPError\n",
    "from collections import Counter\n",
    "from typing import Dict\n",
    "import tarfile\n",
    "import zipfile"
   ]
  },
  {
   "cell_type": "code",
   "execution_count": 2,
   "id": "ed645cd0",
   "metadata": {},
   "outputs": [],
   "source": [
    "def get_package_metadata(package_name: str) -> Dict[str, str]:\n",
    "    \"\"\"\n",
    "    Get package metadata\n",
    "    :return: dictionary data containing package info (E.g., homepage, codepage)\n",
    "    \"\"\"\n",
    "    package_json_url = f\"https://pypi.org/pypi/{package_name}/json\"\n",
    "    with urlopen(package_json_url) as response:\n",
    "        data = response.read().decode()\n",
    "        package_metadata = json.loads(data)\n",
    "    return package_metadata  "
   ]
  },
  {
   "cell_type": "code",
   "execution_count": 3,
   "id": "8c343bbb",
   "metadata": {},
   "outputs": [],
   "source": [
    "def count_num_releases(package_name: str) -> int:\n",
    "    \"\"\"\n",
    "    Return the number of releases of a package\n",
    "    \"\"\"\n",
    "    metadata = get_package_metadata(package_name)\n",
    "    for release in metadata[\"releases\"].values():\n",
    "        if release:\n",
    "            return len(release)\n",
    "        else:\n",
    "            return 0"
   ]
  },
  {
   "cell_type": "code",
   "execution_count": 4,
   "id": "a368c4db",
   "metadata": {},
   "outputs": [],
   "source": [
    "def get_latest_release_url(package_metadata: Dict[str, str]) -> str:\n",
    "    \"\"\"\n",
    "    Get the URL of the latest release\n",
    "    \"\"\"\n",
    "    maximum_time = datetime.min\n",
    "    release_url = None\n",
    "    for release in package_metadata[\"releases\"].values():\n",
    "        #print(release)\n",
    "        if release:\n",
    "            for i in release:\n",
    "                upload_time = parser.parse(i[\"upload_time\"])\n",
    "                if upload_time > maximum_time:\n",
    "                    maximum_time = upload_time\n",
    "                    release_url = i[\"url\"]\n",
    "    return release_url"
   ]
  },
  {
   "cell_type": "code",
   "execution_count": 20,
   "id": "3c03befa",
   "metadata": {},
   "outputs": [],
   "source": [
    "def download_latest_release(package_name: str, dest_dir: str) -> str:\n",
    "    \"\"\"\n",
    "    Downloading the latest release of a package\n",
    "    :return: the path to the latest release on the disk\n",
    "    \"\"\"\n",
    "    metadata = get_package_metadata(package_name)\n",
    "    latest_release_url = get_latest_release_url(metadata)\n",
    "    latest_release_filename = latest_release_url.split(\"/\")[-1]\n",
    "    dest_filepath = os.path.join(dest_dir, latest_release_filename)\n",
    "    if not os.path.exists(dest_filepath):\n",
    "        urlretrieve(latest_release_url, dest_filepath)\n",
    "    return dest_filepath"
   ]
  },
  {
   "cell_type": "code",
   "execution_count": 21,
   "id": "1cb8f662",
   "metadata": {},
   "outputs": [],
   "source": [
    "# Extracting all artifacts\n",
    "def uncompressing_artifact(package_name, artifact_file, dst_dir):\n",
    "    extracted_dir = os.path.join(dst_dir, package_name)\n",
    "  \n",
    "    if not os.path.exists(extracted_dir):\n",
    "        os.mkdir(extracted_dir)\n",
    "        \n",
    "        try:\n",
    "            if str(artifact_file).endswith(\".tar.gz\"):\n",
    "                tfile = tarfile.open(artifact_file)\n",
    "                tfile.extractall(extracted_dir)\n",
    "                tfile.close()\n",
    "            elif str(artifact_file).endswith(\".whl\"):\n",
    "                with zipfile.ZipFile(artifact_file, 'r') as zip_ref:\n",
    "                    zip_ref.extractall(extracted_dir)\n",
    "\n",
    "        except Exception as e:\n",
    "            print(filepath, e)"
   ]
  },
  {
   "cell_type": "code",
   "execution_count": null,
   "id": "d24fcc9e",
   "metadata": {},
   "outputs": [],
   "source": []
  },
  {
   "cell_type": "code",
   "execution_count": 16,
   "id": "59c9b0ef",
   "metadata": {},
   "outputs": [
    {
     "name": "stdout",
     "output_type": "stream",
     "text": [
      "Number of randomly PyPI packages: 1000\n"
     ]
    }
   ],
   "source": [
    "# Load the list of 1000 random packages\n",
    "a_thousand_random_packages_filepath = os.path.abspath(\"../dataset/metadata/a-thousand-pypi-packages.txt\")\n",
    "with open(a_thousand_random_packages_filepath) as f:\n",
    "    a_thousand_random_packages = f.read().splitlines()\n",
    "print(f\"Number of randomly PyPI packages: {len(set(a_thousand_random_packages))}\")"
   ]
  },
  {
   "cell_type": "code",
   "execution_count": 17,
   "id": "6c47d75a",
   "metadata": {},
   "outputs": [
    {
     "name": "stdout",
     "output_type": "stream",
     "text": [
      "memex 'NoneType' object has no attribute 'split'\n",
      "tdebuilder 'NoneType' object has no attribute 'split'\n",
      "tngems-sousou 'NoneType' object has no attribute 'split'\n",
      "atlassian-analytics-utils HTTP Error 404: Not Found\n",
      "towel-bootstrap 'NoneType' object has no attribute 'split'\n",
      "caafindert HTTP Error 404: Not Found\n",
      "resotocommon HTTP Error 404: Not Found\n",
      "cloudkeeper-plugin-jira HTTP Error 404: Not Found\n",
      "ngramtable HTTP Error 404: Not Found\n",
      "process 'NoneType' object has no attribute 'split'\n",
      "pyramid-secrets HTTP Error 404: Not Found\n",
      "trajectory-distance-py3 HTTP Error 404: Not Found\n",
      "pipc 'NoneType' object has no attribute 'split'\n",
      "deferrable HTTP Error 404: Not Found\n",
      "feri-urnik HTTP Error 404: Not Found\n",
      "flask-cms-core 'NoneType' object has no attribute 'split'\n",
      "mytestmodule 'NoneType' object has no attribute 'split'\n",
      "attrhelpers-msalib HTTP Error 404: Not Found\n",
      "noodleflow 'NoneType' object has no attribute 'split'\n",
      "battleship-game 'NoneType' object has no attribute 'split'\n",
      "neuron0 HTTP Error 404: Not Found\n",
      "torchcast HTTP Error 404: Not Found\n",
      "pysav HTTP Error 404: Not Found\n",
      "source-page HTTP Error 404: Not Found\n",
      "easy-eval HTTP Error 404: Not Found\n",
      "django-neue-transmeta HTTP Error 404: Not Found\n",
      "cambir HTTP Error 404: Not Found\n",
      "forecasting HTTP Error 404: Not Found\n",
      "mylinux 'NoneType' object has no attribute 'split'\n",
      "bpmn 'NoneType' object has no attribute 'split'\n",
      "spork 'NoneType' object has no attribute 'split'\n",
      "temop HTTP Error 404: Not Found\n",
      "lextenglibtest 'NoneType' object has no attribute 'split'\n",
      "inotify-watcher HTTP Error 404: Not Found\n",
      "clifton-jasmine name 'filepath' is not defined\n",
      "covid19-info-stats HTTP Error 404: Not Found\n",
      "aatree 'NoneType' object has no attribute 'split'\n",
      "nesterxj 'NoneType' object has no attribute 'split'\n",
      "alp-proj HTTP Error 404: Not Found\n",
      "ml-prepr HTTP Error 404: Not Found\n",
      "brambl-py HTTP Error 404: Not Found\n",
      "raio HTTP Error 404: Not Found\n",
      "fb-messeges HTTP Error 404: Not Found\n",
      "dlgr 'NoneType' object has no attribute 'split'\n",
      "oaktree 'NoneType' object has no attribute 'split'\n"
     ]
    }
   ],
   "source": [
    "# Downloading the releases of the random packages\n",
    "dest_dir = os.path.abspath(\"../dataset/random-packages/\")\n",
    "for package in a_thousand_random_packages:\n",
    "    try:\n",
    "        release_path = download_latest_release(package, dest_dir)\n",
    "        uncompressing_artifacts(package, release_path, dest_dir)\n",
    "        os.remove(release_path)\n",
    "    except Exception as e:\n",
    "        print(package, e)\n",
    "        pass"
   ]
  },
  {
   "cell_type": "markdown",
   "id": "b542755a",
   "metadata": {},
   "source": [
    "### Random packages that are not available\n",
    "memex 'NoneType' object has no attribute 'split'\n",
    "tdebuilder 'NoneType' object has no attribute 'split'\n",
    "tngems-sousou 'NoneType' object has no attribute 'split'\n",
    "atlassian-analytics-utils HTTP Error 404: Not Found\n",
    "towel-bootstrap 'NoneType' object has no attribute 'split'\n",
    "caafindert HTTP Error 404: Not Found\n",
    "resotocommon HTTP Error 404: Not Found\n",
    "cloudkeeper-plugin-jira HTTP Error 404: Not Found\n",
    "ngramtable HTTP Error 404: Not Found\n",
    "process 'NoneType' object has no attribute 'split'\n",
    "pyramid-secrets HTTP Error 404: Not Found\n",
    "trajectory-distance-py3 HTTP Error 404: Not Found\n",
    "pipc 'NoneType' object has no attribute 'split'\n",
    "deferrable HTTP Error 404: Not Found\n",
    "feri-urnik HTTP Error 404: Not Found\n",
    "flask-cms-core 'NoneType' object has no attribute 'split'\n",
    "mytestmodule 'NoneType' object has no attribute 'split'\n",
    "attrhelpers-msalib HTTP Error 404: Not Found\n",
    "noodleflow 'NoneType' object has no attribute 'split'\n",
    "battleship-game 'NoneType' object has no attribute 'split'\n",
    "neuron0 HTTP Error 404: Not Found\n",
    "torchcast HTTP Error 404: Not Found\n",
    "pysav HTTP Error 404: Not Found\n",
    "source-page HTTP Error 404: Not Found\n",
    "easy-eval HTTP Error 404: Not Found\n",
    "django-neue-transmeta HTTP Error 404: Not Found\n",
    "cambir HTTP Error 404: Not Found\n",
    "forecasting HTTP Error 404: Not Found\n",
    "mylinux 'NoneType' object has no attribute 'split'\n",
    "bpmn 'NoneType' object has no attribute 'split'\n",
    "spork 'NoneType' object has no attribute 'split'\n",
    "temop HTTP Error 404: Not Found\n",
    "lextenglibtest 'NoneType' object has no attribute 'split'\n",
    "inotify-watcher HTTP Error 404: Not Found\n",
    "covid19-info-stats HTTP Error 404: Not Found\n",
    "aatree 'NoneType' object has no attribute 'split'\n",
    "nesterxj 'NoneType' object has no attribute 'split'\n",
    "alp-proj HTTP Error 404: Not Found\n",
    "ml-prepr HTTP Error 404: Not Found\n",
    "brambl-py HTTP Error 404: Not Found\n",
    "raio HTTP Error 404: Not Found\n",
    "fb-messeges HTTP Error 404: Not Found\n",
    "dlgr 'NoneType' object has no attribute 'split'\n",
    "oaktree 'NoneType' object has no attribute 'split'"
   ]
  },
  {
   "cell_type": "code",
   "execution_count": 23,
   "id": "d747314c",
   "metadata": {},
   "outputs": [
    {
     "name": "stdout",
     "output_type": "stream",
     "text": [
      "Number of top additional random PyPI packages: 1000\n"
     ]
    }
   ],
   "source": [
    "# Load additional random packages\n",
    "additional_thousand_random_packages_filepath = os.path.abspath(\"../dataset/metadata/additional-thousand-pypi-packages.txt\")\n",
    "with open(additional_thousand_random_packages_filepath) as f:\n",
    "    additional_thousand_random_packages = f.read().splitlines()\n",
    "print(f\"Number of top additional random PyPI packages: {len(set(additional_thousand_random_packages))}\")"
   ]
  },
  {
   "cell_type": "code",
   "execution_count": 24,
   "id": "60697433",
   "metadata": {},
   "outputs": [
    {
     "name": "stdout",
     "output_type": "stream",
     "text": [
      "ia 'NoneType' object has no attribute 'split'\n"
     ]
    }
   ],
   "source": [
    "# Downloading additional ramdomly releases because there are some of the original randomly selected packages \n",
    "# are not available\n",
    "dest_dir = os.path.abspath(\"../dataset/random-packages/\")\n",
    "\n",
    "for package in additional_thousand_random_packages[:50]:\n",
    "    try:\n",
    "        release_path = download_latest_release(package, dest_dir)\n",
    "        uncompressing_artifacts(package, release_path, dest_dir)\n",
    "        os.remove(release_path)\n",
    "    except Exception as e:\n",
    "        print(package, e)\n",
    "        pass\n",
    "\n"
   ]
  },
  {
   "cell_type": "code",
   "execution_count": null,
   "id": "528f0bb5",
   "metadata": {},
   "outputs": [],
   "source": []
  },
  {
   "cell_type": "code",
   "execution_count": 18,
   "id": "9b5e9df7",
   "metadata": {},
   "outputs": [
    {
     "name": "stdout",
     "output_type": "stream",
     "text": [
      "Number of top downloaded PyPI packages: 1000\n"
     ]
    }
   ],
   "source": [
    "# Load the list of top 1000 packages by the number of dependents\n",
    "top_1000_downloaded_packages_filepath = os.path.abspath(\"../dataset/metadata/top-pypi-packages-downloads.txt\")\n",
    "with open(top_1000_downloaded_packages_filepath) as f:\n",
    "    top_1000_downloaded_packages = f.read().splitlines()\n",
    "print(f\"Number of top downloaded PyPI packages: {len(set(top_1000_downloaded_packages))}\")"
   ]
  },
  {
   "cell_type": "code",
   "execution_count": 22,
   "id": "80fef631",
   "metadata": {},
   "outputs": [],
   "source": [
    "# Downloading the releaes of the most downloaded packages\n",
    "dest_dir = os.path.abspath(\"../dataset/popular-packages/\")\n",
    "for package in top_1000_downloaded_packages:\n",
    "    try:\n",
    "        release_path = download_latest_release(package, dest_dir)\n",
    "        uncompressing_artifacts(package, release_path, dest_dir)\n",
    "        os.remove(release_path)\n",
    "    except Exception as e:\n",
    "        print(package, e)\n",
    "        pass"
   ]
  },
  {
   "cell_type": "code",
   "execution_count": 10,
   "id": "099a99bf",
   "metadata": {},
   "outputs": [
    {
     "name": "stdout",
     "output_type": "stream",
     "text": [
      "Number of top dependent packages, but not in top downloaded: 498\n"
     ]
    }
   ],
   "source": [
    "# Load the list of top 1000 packages by the number of dependents\n",
    "top_dependent_packages_not_in_top_downloaded_filepath = os.path.abspath(\"../dataset/metadata/top-dependent-packages-not-in-top-downloaded.txt\")\n",
    "with open(top_dependent_packages_not_in_top_downloaded_filepath) as f:\n",
    "    top_dependent_packages_not_in_top_downloaded = f.read().splitlines()\n",
    "print(f\"Number of top dependent packages, but not in top downloaded: {len(set(top_dependent_packages_not_in_top_downloaded))}\")"
   ]
  },
  {
   "cell_type": "code",
   "execution_count": 11,
   "id": "b031ed66",
   "metadata": {},
   "outputs": [
    {
     "name": "stdout",
     "output_type": "stream",
     "text": [
      "time 'NoneType' object has no attribute 'split'\n",
      "json HTTP Error 404: Not Found\n",
      "odoo 'NoneType' object has no attribute 'split'\n"
     ]
    }
   ],
   "source": [
    "# Downloading the releaes of the most downloaded packages\n",
    "dest_dir = os.path.abspath(\"../dataset/popular-packages/\")\n",
    "for package in top_dependent_packages_not_in_top_downloaded:\n",
    "    try:\n",
    "        download_latest_release(package, dest_dir)\n",
    "    except Exception as e:\n",
    "        print(package, e)\n",
    "        pass"
   ]
  },
  {
   "cell_type": "code",
   "execution_count": 32,
   "id": "8c0d7534",
   "metadata": {},
   "outputs": [
    {
     "name": "stdout",
     "output_type": "stream",
     "text": [
      "8\n"
     ]
    }
   ],
   "source": [
    "# Downloading additional release\n",
    "num_required_releases = 1000\n",
    "dest_dir = os.path.abspath(\"../dataset/random-packages/\")\n",
    "num_current_random_releases = len(os.listdir(dest_dir))\n",
    "missing_releases = (num_required_releases - num_current_random_releases)\n",
    "print(missing_releases)"
   ]
  },
  {
   "cell_type": "code",
   "execution_count": null,
   "id": "9a549bc1",
   "metadata": {},
   "outputs": [],
   "source": []
  }
 ],
 "metadata": {
  "kernelspec": {
   "display_name": "Python 3 (ipykernel)",
   "language": "python",
   "name": "python3"
  },
  "language_info": {
   "codemirror_mode": {
    "name": "ipython",
    "version": 3
   },
   "file_extension": ".py",
   "mimetype": "text/x-python",
   "name": "python",
   "nbconvert_exporter": "python",
   "pygments_lexer": "ipython3",
   "version": "3.8.10"
  }
 },
 "nbformat": 4,
 "nbformat_minor": 5
}
